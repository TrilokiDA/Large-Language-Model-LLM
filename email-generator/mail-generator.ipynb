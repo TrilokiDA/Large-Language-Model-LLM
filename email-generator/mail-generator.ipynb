{
 "cells": [
  {
   "cell_type": "markdown",
   "id": "a587d0ef-41d7-49bd-97ae-853f47cd43fa",
   "metadata": {},
   "source": [
    "## [groqCloud](https://console.groq.com/)"
   ]
  },
  {
   "cell_type": "code",
   "execution_count": 78,
   "id": "6c688a78-147d-4477-ac13-25decfc44518",
   "metadata": {},
   "outputs": [],
   "source": [
    "import getpass  # Import the getpass module to securely handle password prompts\n",
    "import os  # Import the os module to interact with the operating system's environment variables\n",
    "\n",
    "# Check if the environment variable \"GROQ_API_KEY\" is not already set\n",
    "if \"GROQ_API_KEY\" not in os.environ:\n",
    "    # Prompt the user to enter their Groq API key and set it as an environment variable\n",
    "    os.environ[\"GROQ_API_KEY\"] = getpass.getpass(\"Enter your Groq API key: \")\n"
   ]
  },
  {
   "cell_type": "code",
   "execution_count": 56,
   "id": "42989db3-8956-41ab-80f6-faed6e441698",
   "metadata": {},
   "outputs": [],
   "source": [
    "from langchain_groq import ChatGroq  # Importing the ChatGroq class from the langchain_groq module\n",
    "\n",
    "# Initializing the ChatGroq model with specific parameters\n",
    "llm = ChatGroq(\n",
    "    model=\"llama-3.1-70b-versatile\",  # Specifying the model to be used\n",
    "    temperature=0  # Setting the temperature to 0 for deterministic output\n",
    ")"
   ]
  },
  {
   "cell_type": "code",
   "execution_count": 58,
   "id": "f408ef84-3301-405f-a3d8-8d220d767863",
   "metadata": {},
   "outputs": [
    {
     "name": "stdout",
     "output_type": "stream",
     "text": [
      "I'm using a large language model, but I don't have have access to real-time information about the specific model I'm using. My knowledge was last updated in December 2023, and I don't have information about any updates or changes made after that date.\n"
     ]
    }
   ],
   "source": [
    "# Invoke the language model (LLM) with a query to determine which LLM is being used\n",
    "response = llm.invoke(\"Which LLM you are using?\")\n",
    "\n",
    "# Print the content of the response received from the LLM\n",
    "print(response.content)"
   ]
  },
  {
   "cell_type": "markdown",
   "id": "a0516385-73be-48f2-9766-9c8bff97dcaf",
   "metadata": {},
   "source": [
    "## [WebBaseLoader](https://python.langchain.com/docs/integrations/document_loaders/web_base/)"
   ]
  },
  {
   "cell_type": "code",
   "execution_count": 60,
   "id": "f1339c50-7db6-4472-b145-507669e3152b",
   "metadata": {},
   "outputs": [],
   "source": [
    "# Importing the WebBaseLoader class from the langchain_community.document_loaders module\n",
    "from langchain_community.document_loaders import WebBaseLoader\n",
    "\n",
    "# Creating an instance of WebBaseLoader to load the job posting from the specified URL\n",
    "loader = WebBaseLoader(\"https://jobs.nike.com/job/R-32222\")  "
   ]
  },
  {
   "cell_type": "code",
   "execution_count": 62,
   "id": "e42c5d86-12df-487d-946c-f41d08ec243f",
   "metadata": {},
   "outputs": [
    {
     "name": "stdout",
     "output_type": "stream",
     "text": [
      "Apply for Senior Machine Learning Engineer\n",
      "\n",
      "Search JobsSkip navigationSearch JobsNIKE, INC. JOBSContract JobsJoin The Talent CommunityLife @ NikeOverviewBenefitsBrandsOverviewJordanConverseTeamsOverviewAdministrative SupportAdvanced InnovationAir Manufacturing InnovationAviationCommunicationsCustomer ServiceDesignDigitalFacilitiesFinance & AccountingGovernment & Public AffairsHuman ResourcesInsights & AnalyticsLegalManufacturing & EngineeringMarketingMerchandisingPlanningPrivacyProcurementProduct Creation, Development & ManagementRetail CorporateRetail StoresSalesSocial & Community ImpactSports MarketingStrategic PlanningSupply Chain, Distribution & LogisticsSustainabilityTechnologyLocationsOverviewNike WHQNike New York HQEHQ: Hilversum, The NetherlandsELC: Laakdal, BelgiumGreater China HQDiversity, Equity & InclusionOverviewMilitary InclusionDisability InclusionIndigenous InclusionInternshipsData & AnalyticsSenior Machine Learning EngineerGdansk, PomeranianBecome a Part of the NIKE, Inc. Team\n",
      "NIKE, Inc. does more than outfit the world’s best athletes. It is a place to explore potential, obliterate boundaries and push out the edges of what can be. The company looks for people who can grow, think, dream and create. Its culture thrives by embracing diversity and rewarding imagination. The brand seeks achievers, leaders and visionaries. At NIKE, Inc. it’s about each person bringing skills and passion to a challenging and constantly evolving game.NIKE, Inc. does more than outfit the world’s best athletes. It is a place to explore potential, obliterate boundaries and redefine what can be. We look for colleagues who can grow, think, dream and build. Our culture thrives by adopting diversity and exciting creativity. The Nike brand seeks achievers, leaders and dreamers. At NIKE, Inc. it’s about each person bringing skills and passion to a challenging and constantly evolving game!Who are we looking forAs a Sr. Machine Learning Engineer within the AIML team, you will be developing sophisticated analytics systems that directly impact our business.You will work on a cross-disciplinary team (DevOps/Data/Software Engineering) to enable data-driven decision-making across multiple organizations.Working at the intersection of machine learning and software engineering, you’ll create high-quality solutions that power Nike. You will work with others who are energized by the challenge of building things from the ground up, thinking out of the box, and applying the latest technologies in statistical, unsupervised, supervised, and machine-learning models at a global scale.Our teams enjoy a collaborative and academic environment that promotes developing new skills, mentorship, and a drive to deliver knowledge and software back to analytics and engineering communities, within and Nike and without. This culture is cultivated by intellectual curiosity, fun, willingness, and diversity.Sound like you?Who will you work withAIML is one of the key groups within Data and Artificial Intelligence. We’re chartered to scale machine learning and AI at Nike. For areas of the business early in their analytics journey, we embed cross-disciplinary teams of data scientists and engineers to unlock new capabilities and answer unsolved (or unasked!) questions.In mature areas with preexisting data science teams, we help scale machine learning by attaching engineering squads to grow their capacity to deliver for the business. In addition, we collaborate closely with platform and architecture partners to develop capabilities that simplify machine learning at scale within Nike (e.g. model deployment, A/B testing, model monitoring).Crucial Job Functions:Serve as an integral member of a multi-functional engineering team that delivers solutions unlocking machine learning for Nike. You will analyze and profile data to uncover insights in support of scalable solutions, and clean, prepare and verify the integrity of data for analysis and model creation. You’ll also track model accuracy, performance, relevance, and reliability. You will apply a variety of machine learning and collaborative filtering methods to data sets. You will aid in building APIs and software libraries that support the adoption of models in productionLeverage your prior experience, knowledge of industry trends, and personal creativity to develop new and innovative solutions which delight our customers in their mission to serve AthletesStay current with industry trends and recommend relevant technologies & products in the areas of Analytics, Machine Learning, Artificial Intelligence, and Data Science tools and other emerging technologies. Given the rapid pace of change in technology and machine learning today, always be pushing the boundary of what’s possible and be on the offence alwaysAccept and embody Nike’s core values (maxims) in your work and interactions with peers and stakeholders. Communicate effectively, build trust and strong relationships across the company, and do the right thingWhat you bring to Nike3+ years of experience in the field of ML Engineering or Software Engineering with a comparable bachelor’s degree in a relevant field, like computer science or software engineering, or equivalent experience.Understanding of Machine Learning, its applications, and the lifecycle of an ML application in production; including an ability to articulate the role of MLOps in the machine learning development life cycle from experimentation to production and measurementAn ability to significantly communicate, written, orally, and visually technical topics with peers and articulate the benefits and tradeoffs of various solutionsAbility to write robust, maintainable, and extendable code in PythonExperience working in and/or collaborating with a partial or fully distributed teamStrong experiential understanding of data structures, algorithms, and data solutionsFamiliarity with frameworks such as Scikit-learn, PyTorch, Tensorflow, Spark, FastAPI or similar platforms and frameworksExperience with cloud architecture and technologies (preferably Amazon Web Services: ECR, SageMaker, Lambda, API Gateway)Familiarity with pipeline orchestration tools such as AirFlow.Awareness of CI/CD pipelines and containerization is preferred.Fluency in the application of open-source technologies and the potential of standardized platforms in the area of Data Science, AI & ML.Nice to have: an interest in the potential of Generative AI to accelerate common development and data science tasks, or the deployment of Generative AI solutions in the enterpriseWhat do we offer Health & well-being benefits: sports costs covered, fully subsidized medical plan including eligible dependents Summer hours allow employees to leave the office on Friday at noon all Summer long! Performance Sharing Plan Financial benefits: group life insurance, disability & accident insurance Company product discount Casual and international work environment  #LI-EMEA NIKE, Inc. is a growth company that looks for team members to grow with it. Nike offers a generous total rewards package, a casual work environment, a diverse and inclusive culture, and an electric atmosphere for professional development. No matter the location, or the role, every Nike employee shares one galvanizing mission: To bring inspiration and innovation to every athlete* in the world.NIKE, Inc. is committed to employing a diverse workforce. Qualified applicants will receive consideration without regard to race, colour, religion, sex, national origin, age, sexual orientation, gender identity, gender expression, veteran status, or disability.NIKE, Inc. is a growth company that looks for team members to grow with it. Nike offers a generous total rewards package, casual work environment, a diverse and inclusive culture, and an electric atmosphere for professional development. No matter the location, or the role, every Nike employee shares one galvanizing mission: To bring inspiration and innovation to every athlete* in the world.NIKE, Inc. is committed to employing a diverse workforce. Qualified applicants will receive consideration without regard to race, color, religion, sex, national origin, age, sexual orientation, gender identity, gender expression, veteran status, or disability.How We HireAt NIKE, Inc. we promise to provide a premium, inclusive, compelling and authentic candidate experience. Delivering on this promise means we allow you to be at your best — and to do that, you need to understand how the hiring process works. Transparency is key.\n",
      "\n",
      "* This overview explains our hiring process for corporate roles. Note there may be different hiring steps involved for non-corporate roles.Start nowBenefitsWhether it’s transportation or financial health, we continually invest in our employees to help them achieve greatness — inside and outside of work. All who work here should be able to realize their full potential.Employee Assistance ProgramHolidaysMedical PlanPaid Time Off (PTO)Product DiscountsLearn moreFIND A STOREBECOME A MEMBERSIGN UP FOR EMAILSEND US FEEDBACKSTUDENT DISCOUNTSGET HELPGET HELPOrder StatusDeliveryReturnsPayment OptionsContact Us On Nike.com InquiriesContact Us On All Other InquiriesABOUT NIKEABOUT NIKENewsCareersInvestorsSustainabilityIndia© 2024 Nike, Inc. All Rights ReservedGuidesNike AdaptNike Air MaxNike FlyleatherNike PegasusNike Zoom FlyNike AirNike FlyEaseNike FreeNike ReactNike ZoomXNike Air Force 1Nike FlyknitNike JoyrideNike VaporflyTerms of SaleTerms of UseNike Privacy Policy\n"
     ]
    }
   ],
   "source": [
    "# Load the data using the loader and retrieve the last item from the loaded data\n",
    "# The 'pop()' method removes and returns the last item from the list\n",
    "page_data = loader.load().pop().page_content\n",
    "\n",
    "# Print the content of the page data to the console\n",
    "print(page_data)"
   ]
  },
  {
   "cell_type": "markdown",
   "id": "e5ad7ae8-0f35-4a04-8fcf-86bbce43b3b8",
   "metadata": {},
   "source": [
    "## Prompt"
   ]
  },
  {
   "cell_type": "code",
   "execution_count": 64,
   "id": "98bb919a-861a-4015-92b8-52baf515e56a",
   "metadata": {},
   "outputs": [
    {
     "name": "stdout",
     "output_type": "stream",
     "text": [
      "```json\n",
      "{\n",
      "  \"role\": \"Senior Machine Learning Engineer\",\n",
      "  \"skills\": [\n",
      "    \"3+ years of experience in the field of ML Engineering or Software Engineering\",\n",
      "    \"Bachelor’s degree in a relevant field, like computer science or software engineering\",\n",
      "    \"Understanding of Machine Learning, its applications, and the lifecycle of an ML application in production\",\n",
      "    \"Ability to write robust, maintainable, and extendable code in Python\",\n",
      "    \"Experience working in and/or collaborating with a partial or fully distributed team\",\n",
      "    \"Strong experiential understanding of data structures, algorithms, and data solutions\",\n",
      "    \"Familiarity with frameworks such as Scikit-learn, PyTorch, Tensorflow, Spark, FastAPI or similar platforms and frameworks\",\n",
      "    \"Experience with cloud architecture and technologies (preferably Amazon Web Services: ECR, SageMaker, Lambda, API Gateway)\",\n",
      "    \"Familiarity with pipeline orchestration tools such as AirFlow\",\n",
      "    \"Awareness of CI/CD pipelines and containerization\"\n",
      "  ],\n",
      "  \"description\": \"As a Sr. Machine Learning Engineer within the AIML team, you will be developing sophisticated analytics systems that directly impact our business. You will work on a cross-disciplinary team (DevOps/Data/Software Engineering) to enable data-driven decision-making across multiple organizations. Working at the intersection of machine learning and software engineering, you’ll create high-quality solutions that power Nike.\"\n",
      "}\n",
      "```\n"
     ]
    }
   ],
   "source": [
    "from langchain_core.prompts import PromptTemplate\n",
    "\n",
    "# Create a prompt template for extracting job postings from scraped website data\n",
    "prompt_extract = PromptTemplate.from_template(\n",
    "    \"\"\"\n",
    "    ### SCRAPED TEXT FROM WEBSITE:\n",
    "    {page_data}\n",
    "    ### INSTRUCTION:\n",
    "    The scraped text is from a career's page of a website.\n",
    "    Your job is to extract the job postings and return them in JSON format containing following keys:\n",
    "    'role', 'skills', and 'description'.\n",
    "    Only return the valid JSON.\n",
    "    ### Valid JSON (NO PREAMBLE):\n",
    "    \"\"\"\n",
    ")\n",
    "\n",
    "# Chain the prompt with the language model (llm) to create an extraction process\n",
    "chain_extract = prompt_extract | llm\n",
    "\n",
    "# Invoke the chain with the input data containing the scraped page data\n",
    "res = chain_extract.invoke(input = {'page_data': page_data})\n",
    "\n",
    "# Print the content of the response, which should be the extracted job postings in JSON format\n",
    "print(res.content)"
   ]
  },
  {
   "cell_type": "code",
   "execution_count": 66,
   "id": "64fd2e91-71d0-43aa-a5f9-912bd39fa490",
   "metadata": {},
   "outputs": [
    {
     "data": {
      "text/plain": [
       "{'role': 'Senior Machine Learning Engineer',\n",
       " 'skills': ['3+ years of experience in the field of ML Engineering or Software Engineering',\n",
       "  'Bachelor’s degree in a relevant field, like computer science or software engineering',\n",
       "  'Understanding of Machine Learning, its applications, and the lifecycle of an ML application in production',\n",
       "  'Ability to write robust, maintainable, and extendable code in Python',\n",
       "  'Experience working in and/or collaborating with a partial or fully distributed team',\n",
       "  'Strong experiential understanding of data structures, algorithms, and data solutions',\n",
       "  'Familiarity with frameworks such as Scikit-learn, PyTorch, Tensorflow, Spark, FastAPI or similar platforms and frameworks',\n",
       "  'Experience with cloud architecture and technologies (preferably Amazon Web Services: ECR, SageMaker, Lambda, API Gateway)',\n",
       "  'Familiarity with pipeline orchestration tools such as AirFlow',\n",
       "  'Awareness of CI/CD pipelines and containerization'],\n",
       " 'description': 'As a Sr. Machine Learning Engineer within the AIML team, you will be developing sophisticated analytics systems that directly impact our business. You will work on a cross-disciplinary team (DevOps/Data/Software Engineering) to enable data-driven decision-making across multiple organizations. Working at the intersection of machine learning and software engineering, you’ll create high-quality solutions that power Nike.'}"
      ]
     },
     "execution_count": 66,
     "metadata": {},
     "output_type": "execute_result"
    }
   ],
   "source": [
    "from langchain_core.output_parsers import JsonOutputParser\n",
    "\n",
    "# Create an instance of JsonOutputParser to handle JSON output\n",
    "json_parser = JsonOutputParser()\n",
    "\n",
    "# Parse the content of the response (res.content) into a JSON format\n",
    "json_res = json_parser.parse(res.content)\n",
    "\n",
    "# Display the parsed JSON result\n",
    "json_res"
   ]
  },
  {
   "cell_type": "code",
   "execution_count": null,
   "id": "b5cd45cb-1450-46a8-a9b4-44bfc94227d3",
   "metadata": {},
   "outputs": [],
   "source": []
  },
  {
   "cell_type": "code",
   "execution_count": 68,
   "id": "255571a1-57b1-4506-ae26-edc338c43bd4",
   "metadata": {},
   "outputs": [
    {
     "data": {
      "text/html": [
       "<div>\n",
       "<style scoped>\n",
       "    .dataframe tbody tr th:only-of-type {\n",
       "        vertical-align: middle;\n",
       "    }\n",
       "\n",
       "    .dataframe tbody tr th {\n",
       "        vertical-align: top;\n",
       "    }\n",
       "\n",
       "    .dataframe thead th {\n",
       "        text-align: right;\n",
       "    }\n",
       "</style>\n",
       "<table border=\"1\" class=\"dataframe\">\n",
       "  <thead>\n",
       "    <tr style=\"text-align: right;\">\n",
       "      <th></th>\n",
       "      <th>techstack</th>\n",
       "      <th>links</th>\n",
       "    </tr>\n",
       "  </thead>\n",
       "  <tbody>\n",
       "    <tr>\n",
       "      <th>0</th>\n",
       "      <td>React, Node.js, MongoDB</td>\n",
       "      <td>https://example.com/react-portfolio</td>\n",
       "    </tr>\n",
       "    <tr>\n",
       "      <th>1</th>\n",
       "      <td>Python, Django, MySQL</td>\n",
       "      <td>https://example.com/python-portfolio</td>\n",
       "    </tr>\n",
       "    <tr>\n",
       "      <th>2</th>\n",
       "      <td>DevOps, Jenkins, Docker</td>\n",
       "      <td>https://example.com/devops-portfolio</td>\n",
       "    </tr>\n",
       "    <tr>\n",
       "      <th>3</th>\n",
       "      <td>Machine Learning, Python</td>\n",
       "      <td>https://example.com/ml-python-portfolio</td>\n",
       "    </tr>\n",
       "    <tr>\n",
       "      <th>4</th>\n",
       "      <td>Generative AI, LLM</td>\n",
       "      <td>https://example.com/genai-llm-portfolio</td>\n",
       "    </tr>\n",
       "    <tr>\n",
       "      <th>5</th>\n",
       "      <td>Deep learning, Python, , TensorFlow</td>\n",
       "      <td>https://example.com/dl-python-portfolio</td>\n",
       "    </tr>\n",
       "  </tbody>\n",
       "</table>\n",
       "</div>"
      ],
      "text/plain": [
       "                             techstack  \\\n",
       "0              React, Node.js, MongoDB   \n",
       "1                Python, Django, MySQL   \n",
       "2              DevOps, Jenkins, Docker   \n",
       "3             Machine Learning, Python   \n",
       "4                   Generative AI, LLM   \n",
       "5  Deep learning, Python, , TensorFlow   \n",
       "\n",
       "                                     links  \n",
       "0      https://example.com/react-portfolio  \n",
       "1     https://example.com/python-portfolio  \n",
       "2     https://example.com/devops-portfolio  \n",
       "3  https://example.com/ml-python-portfolio  \n",
       "4  https://example.com/genai-llm-portfolio  \n",
       "5  https://example.com/dl-python-portfolio  "
      ]
     },
     "execution_count": 68,
     "metadata": {},
     "output_type": "execute_result"
    }
   ],
   "source": [
    "import pandas as pd  # Import the pandas library for data manipulation and analysis\n",
    "\n",
    "df = pd.read_excel(\"portfolio.xlsx\")  # Read the Excel file \"portfolio.xlsx\" into a DataFrame\n",
    "df  # Display the DataFrame"
   ]
  },
  {
   "cell_type": "code",
   "execution_count": 70,
   "id": "66e3f06a-ad06-4070-9058-b553e30c2a93",
   "metadata": {},
   "outputs": [],
   "source": [
    "import uuid\n",
    "import chromadb\n",
    "\n",
    "client = chromadb.PersistentClient('vectorstore')  # Initialize a persistent client for the ChromaDB vector store\n",
    "collection = client.get_or_create_collection(name=\"portfolio\")  # Create or retrieve a collection named \"portfolio\"\n",
    "\n",
    "if not collection.count():  # Check if the collection is empty\n",
    "    for _, row in df.iterrows():  # Iterate over each row in the DataFrame 'df'\n",
    "        collection.add(documents=row[\"techstack\"],  # Add the 'techstack' from the current row as a document\n",
    "                       metadatas={\"links\": row[\"links\"]},  # Add the 'links' from the current row as metadata\n",
    "                       ids=[str(uuid.uuid4())])  # Generate a unique ID for the document using uuid and add it to the collection"
   ]
  },
  {
   "cell_type": "code",
   "execution_count": 72,
   "id": "ba5ed8a5-2d8a-42cf-9aac-25a2510c0dd6",
   "metadata": {},
   "outputs": [
    {
     "data": {
      "text/plain": [
       "[[{'links': 'https://example.com/dl-python-portfolio'},\n",
       "  {'links': 'https://example.com/ml-python-portfolio'}],\n",
       " [{'links': 'https://example.com/dl-python-portfolio'},\n",
       "  {'links': 'https://example.com/ml-python-portfolio'}],\n",
       " [{'links': 'https://example.com/ml-python-portfolio'},\n",
       "  {'links': 'https://example.com/dl-python-portfolio'}],\n",
       " [{'links': 'https://example.com/ml-python-portfolio'},\n",
       "  {'links': 'https://example.com/python-portfolio'}],\n",
       " [{'links': 'https://example.com/devops-portfolio'},\n",
       "  {'links': 'https://example.com/dl-python-portfolio'}],\n",
       " [{'links': 'https://example.com/ml-python-portfolio'},\n",
       "  {'links': 'https://example.com/genai-llm-portfolio'}],\n",
       " [{'links': 'https://example.com/dl-python-portfolio'},\n",
       "  {'links': 'https://example.com/ml-python-portfolio'}],\n",
       " [{'links': 'https://example.com/dl-python-portfolio'},\n",
       "  {'links': 'https://example.com/python-portfolio'}],\n",
       " [{'links': 'https://example.com/devops-portfolio'},\n",
       "  {'links': 'https://example.com/dl-python-portfolio'}],\n",
       " [{'links': 'https://example.com/devops-portfolio'},\n",
       "  {'links': 'https://example.com/dl-python-portfolio'}]]"
      ]
     },
     "execution_count": 72,
     "metadata": {},
     "output_type": "execute_result"
    }
   ],
   "source": [
    "# Query the collection for the specified skills in json_res\n",
    "# Retrieve the top 2 results based on the query\n",
    "# Extract the 'metadatas' field from the results, defaulting to an empty list if not found\n",
    "links = collection.query(query_texts=json_res['skills'], n_results=2).get('metadatas', [])\n",
    "links"
   ]
  },
  {
   "cell_type": "markdown",
   "id": "417f66ad-f168-4f36-bcd4-8d5cd9bdd1e5",
   "metadata": {},
   "source": [
    "## email generator"
   ]
  },
  {
   "cell_type": "code",
   "execution_count": 76,
   "id": "c282a29f-4c01-43b7-86e6-892cb1df0b7b",
   "metadata": {},
   "outputs": [
    {
     "name": "stdout",
     "output_type": "stream",
     "text": [
      "Subject: Expert Machine Learning Engineering Solutions for Nike's AIML Team\n",
      "\n",
      "Dear Hiring Manager,\n",
      "\n",
      "I came across the Senior Machine Learning Engineer role at Nike and was impressed by the company's commitment to leveraging AI and machine learning to drive business growth. As a Business Development Executive at XYZ, I'd like to introduce our company as a trusted partner in delivering cutting-edge machine learning engineering solutions.\n",
      "\n",
      "Our team at XYZ has extensive experience in developing sophisticated analytics systems, working with cross-disciplinary teams, and creating high-quality solutions that power businesses like yours. We've empowered numerous enterprises with tailored solutions, fostering scalability, process optimization, cost reduction, and heightened overall efficiency.\n",
      "\n",
      "Our expertise aligns perfectly with the requirements of the Senior Machine Learning Engineer role, including:\n",
      "\n",
      "* Developing robust, maintainable, and extendable code in Python\n",
      "* Experience with frameworks such as Scikit-learn, PyTorch, and TensorFlow\n",
      "* Familiarity with cloud architecture and technologies, including Amazon Web Services (ECR, SageMaker, Lambda, API Gateway)\n",
      "* Experience with pipeline orchestration tools like AirFlow\n",
      "* Awareness of CI/CD pipelines and containerization\n",
      "\n",
      "I'd like to showcase some of our relevant portfolio pieces that demonstrate our capabilities:\n",
      "\n",
      "* Machine Learning and Python Portfolio: https://example.com/ml-python-portfolio\n",
      "* Deep Learning and Python Portfolio: https://example.com/dl-python-portfolio\n",
      "* DevOps Portfolio: https://example.com/devops-portfolio\n",
      "\n",
      "These examples highlight our ability to deliver complex machine learning engineering projects, leveraging the latest technologies and frameworks.\n",
      "\n",
      "I'd love to schedule a call to discuss how XYZ can support Nike's AIML team in achieving their goals. Please let me know if you're available for a conversation.\n",
      "\n",
      "Best regards,\n",
      "\n",
      "ABC\n",
      "Business Development Executive\n",
      "XYZ\n",
      "[Your Email Address]\n",
      "[Your Phone Number]\n"
     ]
    }
   ],
   "source": [
    "# Create a prompt template for generating a cold email\n",
    "prompt_email = PromptTemplate.from_template(\n",
    "        \"\"\"\n",
    "        ### JOB DESCRIPTION:\n",
    "        {job_description}\n",
    "        \n",
    "        ### INSTRUCTION:\n",
    "        You are ABC, a business development executive at XYZ. XYZ is an AI & Software Consulting company dedicated to facilitating\n",
    "        the seamless integration of business processes through automated tools. \n",
    "        Over our experience, we have empowered numerous enterprises with tailored solutions, fostering scalability, \n",
    "        process optimization, cost reduction, and heightened overall efficiency. \n",
    "        Your job is to write a cold email to the client regarding the job mentioned above describing the capability of XYZ \n",
    "        in fulfilling their needs.\n",
    "        Also add the most relevant ones from the following links to showcase XYZ's portfolio: {link_list}\n",
    "        Remember you are ABC, BDE at XYZ. \n",
    "        Do not provide a preamble.\n",
    "        ### EMAIL (NO PREAMBLE):\n",
    "        \n",
    "        \"\"\"\n",
    "        )\n",
    "\n",
    "# Create a chain that combines the prompt with a language model (llm) for email generation\n",
    "chain_email = prompt_email | llm\n",
    "\n",
    "# Invoke the chain with the job description and links to generate the email content\n",
    "res = chain_email.invoke({\"job_description\": str(json_res), \"link_list\": links})\n",
    "\n",
    "# Print the generated email content\n",
    "print(res.content)"
   ]
  },
  {
   "cell_type": "code",
   "execution_count": null,
   "id": "c287973a-985a-4259-90d4-ccbac54529b0",
   "metadata": {},
   "outputs": [],
   "source": []
  }
 ],
 "metadata": {
  "kernelspec": {
   "display_name": "llm",
   "language": "python",
   "name": "llm"
  },
  "language_info": {
   "codemirror_mode": {
    "name": "ipython",
    "version": 3
   },
   "file_extension": ".py",
   "mimetype": "text/x-python",
   "name": "python",
   "nbconvert_exporter": "python",
   "pygments_lexer": "ipython3",
   "version": "3.10.14"
  }
 },
 "nbformat": 4,
 "nbformat_minor": 5
}
